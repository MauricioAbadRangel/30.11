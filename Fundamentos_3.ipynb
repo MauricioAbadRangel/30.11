{
  "nbformat": 4,
  "nbformat_minor": 0,
  "metadata": {
    "colab": {
      "name": "Fundamentos 3.ipynb",
      "provenance": [],
      "authorship_tag": "ABX9TyOTIX4W0OVRg4Ws0btt7Fmf",
      "include_colab_link": true
    },
    "kernelspec": {
      "name": "python3",
      "display_name": "Python 3"
    },
    "language_info": {
      "name": "python"
    }
  },
  "cells": [
    {
      "cell_type": "markdown",
      "metadata": {
        "id": "view-in-github",
        "colab_type": "text"
      },
      "source": [
        "<a href=\"https://colab.research.google.com/github/MauricioAbadRangel/30.11/blob/main/Fundamentos_3.ipynb\" target=\"_parent\"><img src=\"https://colab.research.google.com/assets/colab-badge.svg\" alt=\"Open In Colab\"/></a>"
      ]
    },
    {
      "cell_type": "code",
      "metadata": {
        "id": "NrtFn1FcF7Bw"
      },
      "source": [
        ""
      ],
      "execution_count": null,
      "outputs": []
    },
    {
      "cell_type": "markdown",
      "metadata": {
        "id": "9_ZQidzFF9aB"
      },
      "source": [
        "Repetición:\n",
        "\n",
        "Este tipo de estructura nos permite automatizar la ejecución repetitiva de código mientas ciertas condiciones s cumplan, tenemos 3 variantes de esta estructura en todos los lenguajes de programación:\n",
        "\n",
        "- Desde...hasta (estructura for)\n",
        "- haz mientras (structura While)\n",
        "- haz y luego validaz mientras( estructura Do-While)\n",
        "```\n",
        "for j in range(10):\n",
        "     print(f\"Hola{ j})\n",
        "   ```\n",
        "   "
      ]
    },
    {
      "cell_type": "code",
      "metadata": {
        "colab": {
          "base_uri": "https://localhost:8080/"
        },
        "id": "-S_k7h_zL3t4",
        "outputId": "d2dac289-c5da-4d65-e4bc-43eab3c43653"
      },
      "source": [
        "for x in range(1, 20, 1,):\n",
        "    print(x)\n",
        "print(\"Fin del programa\")\n",
        "\n",
        "for x in range(19, 0, -1):\n",
        "    print(x)\n",
        "print(\"fin del programa\")"
      ],
      "execution_count": null,
      "outputs": [
        {
          "output_type": "stream",
          "name": "stdout",
          "text": [
            "1\n",
            "2\n",
            "3\n",
            "4\n",
            "5\n",
            "6\n",
            "7\n",
            "8\n",
            "9\n",
            "10\n",
            "11\n",
            "12\n",
            "13\n",
            "14\n",
            "15\n",
            "16\n",
            "17\n",
            "18\n",
            "19\n",
            "Fin del programa\n",
            "19\n",
            "18\n",
            "17\n",
            "16\n",
            "15\n",
            "14\n",
            "13\n",
            "12\n",
            "11\n",
            "10\n",
            "9\n",
            "8\n",
            "7\n",
            "6\n",
            "5\n",
            "4\n",
            "3\n",
            "2\n",
            "1\n",
            "fin del programa\n"
          ]
        }
      ]
    },
    {
      "cell_type": "code",
      "metadata": {
        "colab": {
          "base_uri": "https://localhost:8080/"
        },
        "id": "ULAXbMQbNsEj",
        "outputId": "cde74edd-8e22-4a11-8bdc-53f5fd75c4c9"
      },
      "source": [
        "#ejemplo 3.3\n",
        "CUECER = 0\n",
        "NUM = 0\n",
        "N = int(input(\"Introduce un valor numerico mayor que 1: \"))\n",
        "for I in range(1, N+1 ,1):\n",
        "    N = int(input(\"Introduce un valor numerico mayor que 1: \"))\n",
        "    if N == 0:\n",
        "        CUECER += 1\n",
        "print(\"Cruecer=\",CUECER)\n"
      ],
      "execution_count": null,
      "outputs": [
        {
          "output_type": "stream",
          "name": "stdout",
          "text": [
            "Introduce un valor numerico mayor que 1: 4\n",
            "Introduce un valor numerico mayor que 1: 0\n",
            "Introduce un valor numerico mayor que 1: 0\n",
            "Introduce un valor numerico mayor que 1: 2\n",
            "Introduce un valor numerico mayor que 1: 2\n",
            "Cruecer= 2\n"
          ]
        }
      ]
    },
    {
      "cell_type": "code",
      "metadata": {
        "colab": {
          "base_uri": "https://localhost:8080/"
        },
        "id": "LsseFCqxQ1Nc",
        "outputId": "e0ee6852-61a5-46de-b858-db7137ffe32e"
      },
      "source": [
        "for f in range(1,11): \n",
        "    print(f'7 x {f} = {7 * f}')\n",
        "print(f)"
      ],
      "execution_count": null,
      "outputs": [
        {
          "output_type": "stream",
          "name": "stdout",
          "text": [
            "7 x 1 = 7\n",
            "7 x 2 = 14\n",
            "7 x 3 = 21\n",
            "7 x 4 = 28\n",
            "7 x 5 = 35\n",
            "7 x 6 = 42\n",
            "7 x 7 = 49\n",
            "7 x 8 = 56\n",
            "7 x 9 = 63\n",
            "7 x 10 = 70\n",
            "10\n"
          ]
        }
      ]
    },
    {
      "cell_type": "code",
      "metadata": {
        "colab": {
          "base_uri": "https://localhost:8080/"
        },
        "id": "vlQKwI9eRuvA",
        "outputId": "21244fdd-e1d3-4377-e578-fde450538d79"
      },
      "source": [
        "N=int(input(\"Dame un valor entre el 1 y 5: \"))\n",
        "if N<1 or N>5:\n",
        "    print(\"Tu numero no esta dentro del parametro\")\n",
        "M=int(input(f\"Dame un valor entre el {N} y 10: \"))\n",
        "if M<2 or M>10:\n",
        "    print(\"Tu numero no esta dentro del parametro, Intenta de nuevo\")\n",
        "for J in range(N,M+1):\n",
        "    for I in range(1,11):\n",
        "        x=J*I\n",
        "        print(f\"{J} x {I} = {x}\")\n",
        "    print(\"\\n\")"
      ],
      "execution_count": null,
      "outputs": [
        {
          "output_type": "stream",
          "name": "stdout",
          "text": [
            "Dame un valor entre el 1 y 5: 4\n",
            "Dame un valor entre el 4 y 10: 8\n",
            "4 x 1 = 4\n",
            "4 x 2 = 8\n",
            "4 x 3 = 12\n",
            "4 x 4 = 16\n",
            "4 x 5 = 20\n",
            "4 x 6 = 24\n",
            "4 x 7 = 28\n",
            "4 x 8 = 32\n",
            "4 x 9 = 36\n",
            "4 x 10 = 40\n",
            "\n",
            "\n",
            "5 x 1 = 5\n",
            "5 x 2 = 10\n",
            "5 x 3 = 15\n",
            "5 x 4 = 20\n",
            "5 x 5 = 25\n",
            "5 x 6 = 30\n",
            "5 x 7 = 35\n",
            "5 x 8 = 40\n",
            "5 x 9 = 45\n",
            "5 x 10 = 50\n",
            "\n",
            "\n",
            "6 x 1 = 6\n",
            "6 x 2 = 12\n",
            "6 x 3 = 18\n",
            "6 x 4 = 24\n",
            "6 x 5 = 30\n",
            "6 x 6 = 36\n",
            "6 x 7 = 42\n",
            "6 x 8 = 48\n",
            "6 x 9 = 54\n",
            "6 x 10 = 60\n",
            "\n",
            "\n",
            "7 x 1 = 7\n",
            "7 x 2 = 14\n",
            "7 x 3 = 21\n",
            "7 x 4 = 28\n",
            "7 x 5 = 35\n",
            "7 x 6 = 42\n",
            "7 x 7 = 49\n",
            "7 x 8 = 56\n",
            "7 x 9 = 63\n",
            "7 x 10 = 70\n",
            "\n",
            "\n",
            "8 x 1 = 8\n",
            "8 x 2 = 16\n",
            "8 x 3 = 24\n",
            "8 x 4 = 32\n",
            "8 x 5 = 40\n",
            "8 x 6 = 48\n",
            "8 x 7 = 56\n",
            "8 x 8 = 64\n",
            "8 x 9 = 72\n",
            "8 x 10 = 80\n",
            "\n",
            "\n"
          ]
        }
      ]
    },
    {
      "cell_type": "code",
      "metadata": {
        "colab": {
          "base_uri": "https://localhost:8080/"
        },
        "id": "7EJD7oTmWLwY",
        "outputId": "8adfc84d-921c-4a48-c386-8e4ca2e409a2"
      },
      "source": [
        "#Generador de lista\n",
        "numeros = [0,0,0,0,0,]\n",
        "print(numeros)\n",
        "numeros = [0 for x in range(5) ]\n",
        "print(numeros)\n",
        "#Empleando la variable de control para el valor inicial\n",
        "numeros = [x for x in range(5) ]\n",
        "print(numeros)\n",
        "#10 20 30 40 50 60 70 80 90 100\n",
        "numeros = [x for x in range(10, 101, 10) ]\n",
        "print(numeros)"
      ],
      "execution_count": null,
      "outputs": [
        {
          "output_type": "stream",
          "name": "stdout",
          "text": [
            "[0, 0, 0, 0, 0]\n",
            "[0, 0, 0, 0, 0]\n",
            "[0, 1, 2, 3, 4]\n",
            "[10, 20, 30, 40, 50, 60, 70, 80, 90, 100]\n"
          ]
        }
      ]
    },
    {
      "cell_type": "code",
      "metadata": {
        "id": "kB18GF2BYXkj"
      },
      "source": [
        "suma=0\n",
        "edades=[0 for x in range(5)]\n",
        "for x in range(5):\n",
        "    edades[x]=int(input(\"Dame una edad: \"))\n",
        "    suma=suma+edades[x]\n",
        "print(edades)\n",
        "print(\"promedio: \", suma/5)"
      ],
      "execution_count": null,
      "outputs": []
    },
    {
      "cell_type": "code",
      "metadata": {
        "colab": {
          "base_uri": "https://localhost:8080/"
        },
        "id": "KUvqf-IDchGs",
        "outputId": "82b33e1b-61a6-4913-aeb8-266637b58864"
      },
      "source": [
        "import random\n",
        "print(random.random())\n",
        "print(random.uniform(5,11))\n",
        "val = round(random.uniform(5,11),2)\n",
        "print(val)\n",
        "\n",
        "valores  =[random.uniform(5,11) for x in range(20)]\n",
        "print(valores)"
      ],
      "execution_count": null,
      "outputs": [
        {
          "output_type": "stream",
          "name": "stdout",
          "text": [
            "0.3459000325126673\n",
            "5.976881032389926\n",
            "8.4\n",
            "[5.111495758789263, 5.79143515100135, 6.338775746618314, 7.921922417768491, 6.2973112533201805, 6.533056715312089, 7.669308502924325, 8.9811935806887, 9.976300877312234, 10.133570835213398, 6.8548327279473265, 10.454145055280257, 7.481336080337451, 5.752233364137018, 7.311408823823498, 5.322640288882902, 9.399935190004399, 7.35178782015617, 10.977647352318025, 7.192328676576906]\n"
          ]
        }
      ]
    },
    {
      "cell_type": "markdown",
      "metadata": {
        "id": "jnIpLVXB6C59"
      },
      "source": [
        "#Estructura de repeticion Mientras\n",
        "Nos permite ejecutar repetidamente mientras una condicion se siga cumpliendo\n",
        "#Sintaxis\n",
        "\n",
        "```\n",
        "while <condicion>:\n",
        "    <Bloque de sentencias a ejecutar repetidamente>\n",
        " <Siguiente sentencia posterior a while>\n",
        "```\n",
        "\n",
        "\n",
        "\n"
      ]
    },
    {
      "cell_type": "code",
      "metadata": {
        "id": "1mFm2nPl8xDQ"
      },
      "source": [
        "valor = int(input(\"Dame un valor entero \"))\n",
        "\n",
        "while valor != 0:\n",
        "    print(valor)\n",
        "    valor = int(input(\"Dame un valor entero\"))\n",
        "print(\"fin del programa\")"
      ],
      "execution_count": null,
      "outputs": []
    },
    {
      "cell_type": "code",
      "metadata": {
        "id": "wBGuWoD29XS4"
      },
      "source": [
        "valor = int(input(\"Dame un valor entero\"))\n",
        "while valor != 0:\n",
        "    print(valor)\n",
        "print(\"fin de programa\")"
      ],
      "execution_count": null,
      "outputs": []
    },
    {
      "cell_type": "code",
      "metadata": {
        "colab": {
          "base_uri": "https://localhost:8080/"
        },
        "id": "ezb3Tta9_2JK",
        "outputId": "b181a0d3-483e-4cb6-932d-dd9bfefab878"
      },
      "source": [
        "n = int(input(\"Ingrese un numero entero positivo \"))\n",
        "if n > 0:\n",
        "    print(\"Es correcto\")\n",
        "\n",
        "    for i in range (10):\n",
        "        print(n,\"por\", i+1, \"Es igual a:\", n* (i+1))\n",
        "else:\n",
        "    print(\"El numero ingresado no es correcto\")"
      ],
      "execution_count": 5,
      "outputs": [
        {
          "output_type": "stream",
          "name": "stdout",
          "text": [
            "Ingrese un numero entero positivo 2\n",
            "Es correcto\n",
            "2 por 1 Es igual a: 2\n",
            "2 por 2 Es igual a: 4\n",
            "2 por 3 Es igual a: 6\n",
            "2 por 4 Es igual a: 8\n",
            "2 por 5 Es igual a: 10\n",
            "2 por 6 Es igual a: 12\n",
            "2 por 7 Es igual a: 14\n",
            "2 por 8 Es igual a: 16\n",
            "2 por 9 Es igual a: 18\n",
            "2 por 10 Es igual a: 20\n"
          ]
        }
      ]
    },
    {
      "cell_type": "code",
      "metadata": {
        "colab": {
          "base_uri": "https://localhost:8080/"
        },
        "id": "bM91pS7eCOoz",
        "outputId": "f479f319-d0d9-4e34-ac6e-0102f449b362"
      },
      "source": [
        "comprobar = True\n",
        "while comprobar == True:\n",
        "    n = int(input(\"Ingrese un numero entero positivo \"))\n",
        "    if n > 0:\n",
        "        print(\"Es correcto\")\n",
        "\n",
        "        for i in range (1, 11):\n",
        "            \n",
        "             print( n,\"por\", i+1, \"Es igual a:\", n*i)\n",
        "    comprobar = False\n",
        "else:\n",
        "    print(\"El numero ingresado no es correcto\")"
      ],
      "execution_count": 14,
      "outputs": [
        {
          "output_type": "stream",
          "name": "stdout",
          "text": [
            "Ingrese un numero entero positivo -7\n",
            "El numero ingresado no es correcto\n"
          ]
        }
      ]
    }
  ]
}